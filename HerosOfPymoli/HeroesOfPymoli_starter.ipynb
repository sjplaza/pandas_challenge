{
 "cells": [
  {
   "cell_type": "markdown",
   "metadata": {},
   "source": [
    "### Note\n",
    "* Instructions have been included for each segment. You do not have to follow them exactly, but they are included to help you think through the steps."
   ]
  },
  {
   "cell_type": "code",
   "execution_count": 1,
   "metadata": {},
   "outputs": [
    {
     "data": {
      "text/html": [
       "<div>\n",
       "<style scoped>\n",
       "    .dataframe tbody tr th:only-of-type {\n",
       "        vertical-align: middle;\n",
       "    }\n",
       "\n",
       "    .dataframe tbody tr th {\n",
       "        vertical-align: top;\n",
       "    }\n",
       "\n",
       "    .dataframe thead th {\n",
       "        text-align: right;\n",
       "    }\n",
       "</style>\n",
       "<table border=\"1\" class=\"dataframe\">\n",
       "  <thead>\n",
       "    <tr style=\"text-align: right;\">\n",
       "      <th></th>\n",
       "      <th>Purchase ID</th>\n",
       "      <th>SN</th>\n",
       "      <th>Age</th>\n",
       "      <th>Gender</th>\n",
       "      <th>Item ID</th>\n",
       "      <th>Item Name</th>\n",
       "      <th>Price</th>\n",
       "    </tr>\n",
       "  </thead>\n",
       "  <tbody>\n",
       "    <tr>\n",
       "      <th>0</th>\n",
       "      <td>0</td>\n",
       "      <td>Lisim78</td>\n",
       "      <td>20</td>\n",
       "      <td>Male</td>\n",
       "      <td>108</td>\n",
       "      <td>Extraction, Quickblade Of Trembling Hands</td>\n",
       "      <td>3.53</td>\n",
       "    </tr>\n",
       "    <tr>\n",
       "      <th>1</th>\n",
       "      <td>1</td>\n",
       "      <td>Lisovynya38</td>\n",
       "      <td>40</td>\n",
       "      <td>Male</td>\n",
       "      <td>143</td>\n",
       "      <td>Frenzied Scimitar</td>\n",
       "      <td>1.56</td>\n",
       "    </tr>\n",
       "    <tr>\n",
       "      <th>2</th>\n",
       "      <td>2</td>\n",
       "      <td>Ithergue48</td>\n",
       "      <td>24</td>\n",
       "      <td>Male</td>\n",
       "      <td>92</td>\n",
       "      <td>Final Critic</td>\n",
       "      <td>4.88</td>\n",
       "    </tr>\n",
       "    <tr>\n",
       "      <th>3</th>\n",
       "      <td>3</td>\n",
       "      <td>Chamassasya86</td>\n",
       "      <td>24</td>\n",
       "      <td>Male</td>\n",
       "      <td>100</td>\n",
       "      <td>Blindscythe</td>\n",
       "      <td>3.27</td>\n",
       "    </tr>\n",
       "    <tr>\n",
       "      <th>4</th>\n",
       "      <td>4</td>\n",
       "      <td>Iskosia90</td>\n",
       "      <td>23</td>\n",
       "      <td>Male</td>\n",
       "      <td>131</td>\n",
       "      <td>Fury</td>\n",
       "      <td>1.44</td>\n",
       "    </tr>\n",
       "    <tr>\n",
       "      <th>...</th>\n",
       "      <td>...</td>\n",
       "      <td>...</td>\n",
       "      <td>...</td>\n",
       "      <td>...</td>\n",
       "      <td>...</td>\n",
       "      <td>...</td>\n",
       "      <td>...</td>\n",
       "    </tr>\n",
       "    <tr>\n",
       "      <th>775</th>\n",
       "      <td>775</td>\n",
       "      <td>Aethedru70</td>\n",
       "      <td>21</td>\n",
       "      <td>Female</td>\n",
       "      <td>60</td>\n",
       "      <td>Wolf</td>\n",
       "      <td>3.54</td>\n",
       "    </tr>\n",
       "    <tr>\n",
       "      <th>776</th>\n",
       "      <td>776</td>\n",
       "      <td>Iral74</td>\n",
       "      <td>21</td>\n",
       "      <td>Male</td>\n",
       "      <td>164</td>\n",
       "      <td>Exiled Doomblade</td>\n",
       "      <td>1.63</td>\n",
       "    </tr>\n",
       "    <tr>\n",
       "      <th>777</th>\n",
       "      <td>777</td>\n",
       "      <td>Yathecal72</td>\n",
       "      <td>20</td>\n",
       "      <td>Male</td>\n",
       "      <td>67</td>\n",
       "      <td>Celeste, Incarnation of the Corrupted</td>\n",
       "      <td>3.46</td>\n",
       "    </tr>\n",
       "    <tr>\n",
       "      <th>778</th>\n",
       "      <td>778</td>\n",
       "      <td>Sisur91</td>\n",
       "      <td>7</td>\n",
       "      <td>Male</td>\n",
       "      <td>92</td>\n",
       "      <td>Final Critic</td>\n",
       "      <td>4.19</td>\n",
       "    </tr>\n",
       "    <tr>\n",
       "      <th>779</th>\n",
       "      <td>779</td>\n",
       "      <td>Ennrian78</td>\n",
       "      <td>24</td>\n",
       "      <td>Male</td>\n",
       "      <td>50</td>\n",
       "      <td>Dawn</td>\n",
       "      <td>4.60</td>\n",
       "    </tr>\n",
       "  </tbody>\n",
       "</table>\n",
       "<p>780 rows × 7 columns</p>\n",
       "</div>"
      ],
      "text/plain": [
       "     Purchase ID             SN  Age  Gender  Item ID  \\\n",
       "0              0        Lisim78   20    Male      108   \n",
       "1              1    Lisovynya38   40    Male      143   \n",
       "2              2     Ithergue48   24    Male       92   \n",
       "3              3  Chamassasya86   24    Male      100   \n",
       "4              4      Iskosia90   23    Male      131   \n",
       "..           ...            ...  ...     ...      ...   \n",
       "775          775     Aethedru70   21  Female       60   \n",
       "776          776         Iral74   21    Male      164   \n",
       "777          777     Yathecal72   20    Male       67   \n",
       "778          778        Sisur91    7    Male       92   \n",
       "779          779      Ennrian78   24    Male       50   \n",
       "\n",
       "                                     Item Name  Price  \n",
       "0    Extraction, Quickblade Of Trembling Hands   3.53  \n",
       "1                            Frenzied Scimitar   1.56  \n",
       "2                                 Final Critic   4.88  \n",
       "3                                  Blindscythe   3.27  \n",
       "4                                         Fury   1.44  \n",
       "..                                         ...    ...  \n",
       "775                                       Wolf   3.54  \n",
       "776                           Exiled Doomblade   1.63  \n",
       "777      Celeste, Incarnation of the Corrupted   3.46  \n",
       "778                               Final Critic   4.19  \n",
       "779                                       Dawn   4.60  \n",
       "\n",
       "[780 rows x 7 columns]"
      ]
     },
     "execution_count": 1,
     "metadata": {},
     "output_type": "execute_result"
    }
   ],
   "source": [
    "# Dependencies and Setup\n",
    "import pandas as pd\n",
    "\n",
    "# File to Load (Remember to Change These)\n",
    "file_to_load = \"Resources/purchase_data.csv\"\n",
    "\n",
    "# Read Purchasing File and store into Pandas data frame\n",
    "purchase_data = pd.read_csv(file_to_load)\n",
    "purchase_data"
   ]
  },
  {
   "cell_type": "markdown",
   "metadata": {},
   "source": [
    "## Player Count"
   ]
  },
  {
   "cell_type": "markdown",
   "metadata": {},
   "source": [
    "* Display the total number of players\n"
   ]
  },
  {
   "cell_type": "code",
   "execution_count": 2,
   "metadata": {},
   "outputs": [
    {
     "data": {
      "text/plain": [
       "576"
      ]
     },
     "execution_count": 2,
     "metadata": {},
     "output_type": "execute_result"
    }
   ],
   "source": [
    "players = purchase_data['SN'].nunique()\n",
    "players"
   ]
  },
  {
   "cell_type": "markdown",
   "metadata": {},
   "source": [
    "## Purchasing Analysis (Total)"
   ]
  },
  {
   "cell_type": "markdown",
   "metadata": {},
   "source": [
    "* Run basic calculations to obtain number of unique items, average price, etc.\n",
    "\n",
    "\n",
    "* Create a summary data frame to hold the results\n",
    "\n",
    "\n",
    "* Optional: give the displayed data cleaner formatting\n",
    "\n",
    "\n",
    "* Display the summary data frame\n"
   ]
  },
  {
   "cell_type": "code",
   "execution_count": 3,
   "metadata": {
    "scrolled": true
   },
   "outputs": [
    {
     "data": {
      "text/html": [
       "<div>\n",
       "<style scoped>\n",
       "    .dataframe tbody tr th:only-of-type {\n",
       "        vertical-align: middle;\n",
       "    }\n",
       "\n",
       "    .dataframe tbody tr th {\n",
       "        vertical-align: top;\n",
       "    }\n",
       "\n",
       "    .dataframe thead th {\n",
       "        text-align: right;\n",
       "    }\n",
       "</style>\n",
       "<table border=\"1\" class=\"dataframe\">\n",
       "  <thead>\n",
       "    <tr style=\"text-align: right;\">\n",
       "      <th></th>\n",
       "      <th># of Unique Items</th>\n",
       "      <th>Average Price</th>\n",
       "      <th>Total # of Purchases</th>\n",
       "      <th>Total Revenue</th>\n",
       "    </tr>\n",
       "  </thead>\n",
       "  <tbody>\n",
       "    <tr>\n",
       "      <th>0</th>\n",
       "      <td>179</td>\n",
       "      <td>$3.05</td>\n",
       "      <td>780</td>\n",
       "      <td>$2,379.77</td>\n",
       "    </tr>\n",
       "  </tbody>\n",
       "</table>\n",
       "</div>"
      ],
      "text/plain": [
       "   # of Unique Items Average Price  Total # of Purchases Total Revenue\n",
       "0                179         $3.05                   780     $2,379.77"
      ]
     },
     "execution_count": 3,
     "metadata": {},
     "output_type": "execute_result"
    }
   ],
   "source": [
    "# number of unique items\n",
    "item_count = purchase_data['Item Name'].nunique()\n",
    "\n",
    "# average price\n",
    "avg_price = purchase_data['Price'].mean()\n",
    "\n",
    "# total number of purchases\n",
    "total_purch = purchase_data['Item ID'].count()\n",
    "\n",
    "# total revenue\n",
    "total_revenue = purchase_data['Price'].sum()\n",
    "\n",
    "# dataframe to hold the above results\n",
    "purch_analysis = {\n",
    "    \"# of Unique Items\": [item_count],\n",
    "    \"Average Price\":[avg_price],\n",
    "    \"Total # of Purchases\": [total_purch],\n",
    "    \"Total Revenue\": [total_revenue]\n",
    "}\n",
    "purch_analysis = pd.DataFrame(purch_analysis, columns=purch_analysis.keys())\n",
    "\n",
    "# Optional: give the displayed data cleaner formatting\n",
    "purch_analysis['Average Price'] = purch_analysis['Average Price'].astype(float).map(\"${:,.2f}\".format)\n",
    "purch_analysis['Total Revenue'] = purch_analysis['Total Revenue'].astype(float).map(\"${:,.2f}\".format)\n",
    "purch_analysis"
   ]
  },
  {
   "cell_type": "markdown",
   "metadata": {},
   "source": [
    "## Gender Demographics"
   ]
  },
  {
   "cell_type": "markdown",
   "metadata": {},
   "source": [
    "* Percentage and Count of Male Players\n",
    "\n",
    "\n",
    "* Percentage and Count of Female Players\n",
    "\n",
    "\n",
    "* Percentage and Count of Other / Non-Disclosed\n",
    "\n",
    "\n"
   ]
  },
  {
   "cell_type": "code",
   "execution_count": 4,
   "metadata": {},
   "outputs": [
    {
     "data": {
      "text/html": [
       "<style  type=\"text/css\" >\n",
       "</style><table id=\"T_3a1598f6_d68b_11ea_bac8_80ce621ad535\" ><thead>    <tr>        <th class=\"blank level0\" ></th>        <th class=\"col_heading level0 col0\" >Total Count</th>        <th class=\"col_heading level0 col1\" >Percentage</th>    </tr></thead><tbody>\n",
       "                <tr>\n",
       "                        <th id=\"T_3a1598f6_d68b_11ea_bac8_80ce621ad535level0_row0\" class=\"row_heading level0 row0\" >Female</th>\n",
       "                        <td id=\"T_3a1598f6_d68b_11ea_bac8_80ce621ad535row0_col0\" class=\"data row0 col0\" >81</td>\n",
       "                        <td id=\"T_3a1598f6_d68b_11ea_bac8_80ce621ad535row0_col1\" class=\"data row0 col1\" >14.06%</td>\n",
       "            </tr>\n",
       "            <tr>\n",
       "                        <th id=\"T_3a1598f6_d68b_11ea_bac8_80ce621ad535level0_row1\" class=\"row_heading level0 row1\" >Male</th>\n",
       "                        <td id=\"T_3a1598f6_d68b_11ea_bac8_80ce621ad535row1_col0\" class=\"data row1 col0\" >484</td>\n",
       "                        <td id=\"T_3a1598f6_d68b_11ea_bac8_80ce621ad535row1_col1\" class=\"data row1 col1\" >84.03%</td>\n",
       "            </tr>\n",
       "            <tr>\n",
       "                        <th id=\"T_3a1598f6_d68b_11ea_bac8_80ce621ad535level0_row2\" class=\"row_heading level0 row2\" >Other / Non-Disclosed</th>\n",
       "                        <td id=\"T_3a1598f6_d68b_11ea_bac8_80ce621ad535row2_col0\" class=\"data row2 col0\" >11</td>\n",
       "                        <td id=\"T_3a1598f6_d68b_11ea_bac8_80ce621ad535row2_col1\" class=\"data row2 col1\" >1.91%</td>\n",
       "            </tr>\n",
       "    </tbody></table>"
      ],
      "text/plain": [
       "<pandas.io.formats.style.Styler at 0x266a3d39a48>"
      ]
     },
     "execution_count": 4,
     "metadata": {},
     "output_type": "execute_result"
    }
   ],
   "source": [
    "# percentage and count of players\n",
    "player_count = purchase_data.loc[:, ['SN', 'Age','Gender']].drop_duplicates()\n",
    "player_count = player_count['Gender'].value_counts()\n",
    "player_percent = (player_count/players)\n",
    "\n",
    "\n",
    "demos_df = {\n",
    "    \"Total Count\":player_count,\n",
    "    \"Percentage\":player_percent\n",
    "    }\n",
    "demos_df = pd.DataFrame(demos_df, columns=demos_df.keys()).sort_index()\n",
    "format_demos = {\"Percentage\": '{:.2%}'}\n",
    "demos_df.style.format(format_demos)"
   ]
  },
  {
   "cell_type": "markdown",
   "metadata": {},
   "source": [
    "\n",
    "## Purchasing Analysis (Gender)"
   ]
  },
  {
   "cell_type": "markdown",
   "metadata": {},
   "source": [
    "* Run basic calculations to obtain purchase count, avg. purchase price, avg. purchase total per person etc. by gender\n",
    "\n",
    "\n",
    "\n",
    "\n",
    "* Create a summary data frame to hold the results\n",
    "\n",
    "\n",
    "* Optional: give the displayed data cleaner formatting\n",
    "\n",
    "\n",
    "* Display the summary data frame"
   ]
  },
  {
   "cell_type": "code",
   "execution_count": 6,
   "metadata": {},
   "outputs": [
    {
     "data": {
      "text/html": [
       "<style  type=\"text/css\" >\n",
       "</style><table id=\"T_4ac8ec6e_d68b_11ea_b302_80ce621ad535\" ><thead>    <tr>        <th class=\"blank level0\" ></th>        <th class=\"col_heading level0 col0\" >Purchase Count</th>        <th class=\"col_heading level0 col1\" >Average Price</th>        <th class=\"col_heading level0 col2\" >Total Purchase</th>        <th class=\"col_heading level0 col3\" >Avg Total per Person</th>    </tr>    <tr>        <th class=\"index_name level0\" >Gender</th>        <th class=\"blank\" ></th>        <th class=\"blank\" ></th>        <th class=\"blank\" ></th>        <th class=\"blank\" ></th>    </tr></thead><tbody>\n",
       "                <tr>\n",
       "                        <th id=\"T_4ac8ec6e_d68b_11ea_b302_80ce621ad535level0_row0\" class=\"row_heading level0 row0\" >Female</th>\n",
       "                        <td id=\"T_4ac8ec6e_d68b_11ea_b302_80ce621ad535row0_col0\" class=\"data row0 col0\" >113</td>\n",
       "                        <td id=\"T_4ac8ec6e_d68b_11ea_b302_80ce621ad535row0_col1\" class=\"data row0 col1\" >$3.2</td>\n",
       "                        <td id=\"T_4ac8ec6e_d68b_11ea_b302_80ce621ad535row0_col2\" class=\"data row0 col2\" >$361.94</td>\n",
       "                        <td id=\"T_4ac8ec6e_d68b_11ea_b302_80ce621ad535row0_col3\" class=\"data row0 col3\" >$0.028</td>\n",
       "            </tr>\n",
       "            <tr>\n",
       "                        <th id=\"T_4ac8ec6e_d68b_11ea_b302_80ce621ad535level0_row1\" class=\"row_heading level0 row1\" >Male</th>\n",
       "                        <td id=\"T_4ac8ec6e_d68b_11ea_b302_80ce621ad535row1_col0\" class=\"data row1 col0\" >652</td>\n",
       "                        <td id=\"T_4ac8ec6e_d68b_11ea_b302_80ce621ad535row1_col1\" class=\"data row1 col1\" >$3.02</td>\n",
       "                        <td id=\"T_4ac8ec6e_d68b_11ea_b302_80ce621ad535row1_col2\" class=\"data row1 col2\" >$1,967.64</td>\n",
       "                        <td id=\"T_4ac8ec6e_d68b_11ea_b302_80ce621ad535row1_col3\" class=\"data row1 col3\" >$0.0046</td>\n",
       "            </tr>\n",
       "            <tr>\n",
       "                        <th id=\"T_4ac8ec6e_d68b_11ea_b302_80ce621ad535level0_row2\" class=\"row_heading level0 row2\" >Other / Non-Disclosed</th>\n",
       "                        <td id=\"T_4ac8ec6e_d68b_11ea_b302_80ce621ad535row2_col0\" class=\"data row2 col0\" >15</td>\n",
       "                        <td id=\"T_4ac8ec6e_d68b_11ea_b302_80ce621ad535row2_col1\" class=\"data row2 col1\" >$3.35</td>\n",
       "                        <td id=\"T_4ac8ec6e_d68b_11ea_b302_80ce621ad535row2_col2\" class=\"data row2 col2\" >$50.19</td>\n",
       "                        <td id=\"T_4ac8ec6e_d68b_11ea_b302_80ce621ad535row2_col3\" class=\"data row2 col3\" >$0.22</td>\n",
       "            </tr>\n",
       "    </tbody></table>"
      ],
      "text/plain": [
       "<pandas.io.formats.style.Styler at 0x266a4baca08>"
      ]
     },
     "execution_count": 6,
     "metadata": {},
     "output_type": "execute_result"
    }
   ],
   "source": [
    "gender_df = purchase_data.groupby('Gender')\n",
    "\n",
    "# purchase count\n",
    "gender_purch = purchase_data.groupby(['Gender']).count()['Price']\n",
    "\n",
    "# average purchase price\n",
    "gender_avg_price = purchase_data.groupby(['Gender']).mean()['Price']\n",
    "\n",
    "# total purchase value per person by gender\n",
    "gender_total_value = purchase_data.groupby(['Gender']).sum()['Price']\n",
    "\n",
    "# average total by gender\n",
    "avg_total = (gender_avg_price/gender_purch)\n",
    "\n",
    "purch_df = {\n",
    "    \"Purchase Count\":gender_purch,\n",
    "    \"Average Price\":gender_avg_price,\n",
    "    \"Total Purchase\":gender_total_value,\n",
    "    \"Avg Total per Person\":avg_total\n",
    "    }\n",
    "purch_df = pd.DataFrame(purch_df, columns=purch_df.keys()).sort_index()\n",
    "format_purch = {'Average Price':'${:,.3}','Total Purchase':'${:,.6}', 'Avg Total per Person':'${:,.2}'}\n",
    "purch_df.style.format(format_purch)"
   ]
  },
  {
   "cell_type": "markdown",
   "metadata": {},
   "source": [
    "## Age Demographics"
   ]
  },
  {
   "cell_type": "markdown",
   "metadata": {},
   "source": [
    "* Establish bins for ages\n",
    "\n",
    "\n",
    "* Categorize the existing players using the age bins. Hint: use pd.cut()\n",
    "\n",
    "\n",
    "* Calculate the numbers and percentages by age group\n",
    "\n",
    "\n",
    "* Create a summary data frame to hold the results\n",
    "\n",
    "\n",
    "* Optional: round the percentage column to two decimal points\n",
    "\n",
    "\n",
    "* Display Age Demographics Table\n"
   ]
  },
  {
   "cell_type": "code",
   "execution_count": 7,
   "metadata": {},
   "outputs": [
    {
     "data": {
      "text/html": [
       "<style  type=\"text/css\" >\n",
       "</style><table id=\"T_57fa6730_d68b_11ea_a9b3_80ce621ad535\" ><thead>    <tr>        <th class=\"blank level0\" ></th>        <th class=\"col_heading level0 col0\" >Age Count</th>        <th class=\"col_heading level0 col1\" >Percentage</th>    </tr></thead><tbody>\n",
       "                <tr>\n",
       "                        <th id=\"T_57fa6730_d68b_11ea_a9b3_80ce621ad535level0_row0\" class=\"row_heading level0 row0\" ><10</th>\n",
       "                        <td id=\"T_57fa6730_d68b_11ea_a9b3_80ce621ad535row0_col0\" class=\"data row0 col0\" >23</td>\n",
       "                        <td id=\"T_57fa6730_d68b_11ea_a9b3_80ce621ad535row0_col1\" class=\"data row0 col1\" >3.99%</td>\n",
       "            </tr>\n",
       "            <tr>\n",
       "                        <th id=\"T_57fa6730_d68b_11ea_a9b3_80ce621ad535level0_row1\" class=\"row_heading level0 row1\" >11-14</th>\n",
       "                        <td id=\"T_57fa6730_d68b_11ea_a9b3_80ce621ad535row1_col0\" class=\"data row1 col0\" >28</td>\n",
       "                        <td id=\"T_57fa6730_d68b_11ea_a9b3_80ce621ad535row1_col1\" class=\"data row1 col1\" >4.86%</td>\n",
       "            </tr>\n",
       "            <tr>\n",
       "                        <th id=\"T_57fa6730_d68b_11ea_a9b3_80ce621ad535level0_row2\" class=\"row_heading level0 row2\" >15-19</th>\n",
       "                        <td id=\"T_57fa6730_d68b_11ea_a9b3_80ce621ad535row2_col0\" class=\"data row2 col0\" >136</td>\n",
       "                        <td id=\"T_57fa6730_d68b_11ea_a9b3_80ce621ad535row2_col1\" class=\"data row2 col1\" >23.61%</td>\n",
       "            </tr>\n",
       "            <tr>\n",
       "                        <th id=\"T_57fa6730_d68b_11ea_a9b3_80ce621ad535level0_row3\" class=\"row_heading level0 row3\" >20-24</th>\n",
       "                        <td id=\"T_57fa6730_d68b_11ea_a9b3_80ce621ad535row3_col0\" class=\"data row3 col0\" >365</td>\n",
       "                        <td id=\"T_57fa6730_d68b_11ea_a9b3_80ce621ad535row3_col1\" class=\"data row3 col1\" >63.37%</td>\n",
       "            </tr>\n",
       "            <tr>\n",
       "                        <th id=\"T_57fa6730_d68b_11ea_a9b3_80ce621ad535level0_row4\" class=\"row_heading level0 row4\" >25-29</th>\n",
       "                        <td id=\"T_57fa6730_d68b_11ea_a9b3_80ce621ad535row4_col0\" class=\"data row4 col0\" >101</td>\n",
       "                        <td id=\"T_57fa6730_d68b_11ea_a9b3_80ce621ad535row4_col1\" class=\"data row4 col1\" >17.53%</td>\n",
       "            </tr>\n",
       "            <tr>\n",
       "                        <th id=\"T_57fa6730_d68b_11ea_a9b3_80ce621ad535level0_row5\" class=\"row_heading level0 row5\" >30-34</th>\n",
       "                        <td id=\"T_57fa6730_d68b_11ea_a9b3_80ce621ad535row5_col0\" class=\"data row5 col0\" >73</td>\n",
       "                        <td id=\"T_57fa6730_d68b_11ea_a9b3_80ce621ad535row5_col1\" class=\"data row5 col1\" >12.67%</td>\n",
       "            </tr>\n",
       "            <tr>\n",
       "                        <th id=\"T_57fa6730_d68b_11ea_a9b3_80ce621ad535level0_row6\" class=\"row_heading level0 row6\" >35-39</th>\n",
       "                        <td id=\"T_57fa6730_d68b_11ea_a9b3_80ce621ad535row6_col0\" class=\"data row6 col0\" >41</td>\n",
       "                        <td id=\"T_57fa6730_d68b_11ea_a9b3_80ce621ad535row6_col1\" class=\"data row6 col1\" >7.12%</td>\n",
       "            </tr>\n",
       "            <tr>\n",
       "                        <th id=\"T_57fa6730_d68b_11ea_a9b3_80ce621ad535level0_row7\" class=\"row_heading level0 row7\" >40+</th>\n",
       "                        <td id=\"T_57fa6730_d68b_11ea_a9b3_80ce621ad535row7_col0\" class=\"data row7 col0\" >13</td>\n",
       "                        <td id=\"T_57fa6730_d68b_11ea_a9b3_80ce621ad535row7_col1\" class=\"data row7 col1\" >2.26%</td>\n",
       "            </tr>\n",
       "    </tbody></table>"
      ],
      "text/plain": [
       "<pandas.io.formats.style.Styler at 0x266a46cd2c8>"
      ]
     },
     "execution_count": 7,
     "metadata": {},
     "output_type": "execute_result"
    }
   ],
   "source": [
    "bins = [0, 9.9, 14.9, 19.9, 24.9, 29.9, 34.9, 39.9, 1000]\n",
    "\n",
    "group_names = ['<10', '11-14', '15-19', '20-24', '25-29', '30-34', '35-39', '40+']\n",
    "\n",
    "purchase_data['Age Range'] = pd.cut(purchase_data['Age'], bins, labels = group_names, include_lowest = True)\n",
    "\n",
    "age_count = purchase_data['Age Range'].value_counts()\n",
    "\n",
    "age_percent = (purchase_data['Age Range'].value_counts()/players)\n",
    "\n",
    "age_df = {\n",
    "    'Age Count':age_count,\n",
    "    'Percentage':age_percent\n",
    "}\n",
    "age_df = pd.DataFrame(age_df, columns=age_df.keys()).sort_index()\n",
    "format_age = {\"Percentage\": '{:.2%}'}\n",
    "age_df.style.format(format_age)"
   ]
  },
  {
   "cell_type": "markdown",
   "metadata": {},
   "source": [
    "## Purchasing Analysis (Age)"
   ]
  },
  {
   "cell_type": "markdown",
   "metadata": {},
   "source": [
    "* Bin the purchase_data data frame by age\n",
    "\n",
    "\n",
    "* Run basic calculations to obtain purchase count, avg. purchase price, avg. purchase total per person etc. in the table below\n",
    "\n",
    "\n",
    "* Create a summary data frame to hold the results\n",
    "\n",
    "\n",
    "* Optional: give the displayed data cleaner formatting\n",
    "\n",
    "\n",
    "* Display the summary data frame"
   ]
  },
  {
   "cell_type": "code",
   "execution_count": 8,
   "metadata": {},
   "outputs": [
    {
     "data": {
      "text/html": [
       "<style  type=\"text/css\" >\n",
       "</style><table id=\"T_5a424cda_d68b_11ea_bd0d_80ce621ad535\" ><thead>    <tr>        <th class=\"blank level0\" ></th>        <th class=\"col_heading level0 col0\" >Purchase Count</th>        <th class=\"col_heading level0 col1\" >Average Price</th>        <th class=\"col_heading level0 col2\" >Total Purchase</th>        <th class=\"col_heading level0 col3\" >Avg Total per Person</th>    </tr>    <tr>        <th class=\"index_name level0\" >Age Range</th>        <th class=\"blank\" ></th>        <th class=\"blank\" ></th>        <th class=\"blank\" ></th>        <th class=\"blank\" ></th>    </tr></thead><tbody>\n",
       "                <tr>\n",
       "                        <th id=\"T_5a424cda_d68b_11ea_bd0d_80ce621ad535level0_row0\" class=\"row_heading level0 row0\" ><10</th>\n",
       "                        <td id=\"T_5a424cda_d68b_11ea_bd0d_80ce621ad535row0_col0\" class=\"data row0 col0\" >23</td>\n",
       "                        <td id=\"T_5a424cda_d68b_11ea_bd0d_80ce621ad535row0_col1\" class=\"data row0 col1\" >$3.35</td>\n",
       "                        <td id=\"T_5a424cda_d68b_11ea_bd0d_80ce621ad535row0_col2\" class=\"data row0 col2\" >$77.13</td>\n",
       "                        <td id=\"T_5a424cda_d68b_11ea_bd0d_80ce621ad535row0_col3\" class=\"data row0 col3\" >$3.35</td>\n",
       "            </tr>\n",
       "            <tr>\n",
       "                        <th id=\"T_5a424cda_d68b_11ea_bd0d_80ce621ad535level0_row1\" class=\"row_heading level0 row1\" >11-14</th>\n",
       "                        <td id=\"T_5a424cda_d68b_11ea_bd0d_80ce621ad535row1_col0\" class=\"data row1 col0\" >28</td>\n",
       "                        <td id=\"T_5a424cda_d68b_11ea_bd0d_80ce621ad535row1_col1\" class=\"data row1 col1\" >$2.96</td>\n",
       "                        <td id=\"T_5a424cda_d68b_11ea_bd0d_80ce621ad535row1_col2\" class=\"data row1 col2\" >$82.78</td>\n",
       "                        <td id=\"T_5a424cda_d68b_11ea_bd0d_80ce621ad535row1_col3\" class=\"data row1 col3\" >$2.96</td>\n",
       "            </tr>\n",
       "            <tr>\n",
       "                        <th id=\"T_5a424cda_d68b_11ea_bd0d_80ce621ad535level0_row2\" class=\"row_heading level0 row2\" >15-19</th>\n",
       "                        <td id=\"T_5a424cda_d68b_11ea_bd0d_80ce621ad535row2_col0\" class=\"data row2 col0\" >136</td>\n",
       "                        <td id=\"T_5a424cda_d68b_11ea_bd0d_80ce621ad535row2_col1\" class=\"data row2 col1\" >$3.04</td>\n",
       "                        <td id=\"T_5a424cda_d68b_11ea_bd0d_80ce621ad535row2_col2\" class=\"data row2 col2\" >$412.89</td>\n",
       "                        <td id=\"T_5a424cda_d68b_11ea_bd0d_80ce621ad535row2_col3\" class=\"data row2 col3\" >$3.04</td>\n",
       "            </tr>\n",
       "            <tr>\n",
       "                        <th id=\"T_5a424cda_d68b_11ea_bd0d_80ce621ad535level0_row3\" class=\"row_heading level0 row3\" >20-24</th>\n",
       "                        <td id=\"T_5a424cda_d68b_11ea_bd0d_80ce621ad535row3_col0\" class=\"data row3 col0\" >365</td>\n",
       "                        <td id=\"T_5a424cda_d68b_11ea_bd0d_80ce621ad535row3_col1\" class=\"data row3 col1\" >$3.05</td>\n",
       "                        <td id=\"T_5a424cda_d68b_11ea_bd0d_80ce621ad535row3_col2\" class=\"data row3 col2\" >$1,114.06</td>\n",
       "                        <td id=\"T_5a424cda_d68b_11ea_bd0d_80ce621ad535row3_col3\" class=\"data row3 col3\" >$3.05</td>\n",
       "            </tr>\n",
       "            <tr>\n",
       "                        <th id=\"T_5a424cda_d68b_11ea_bd0d_80ce621ad535level0_row4\" class=\"row_heading level0 row4\" >25-29</th>\n",
       "                        <td id=\"T_5a424cda_d68b_11ea_bd0d_80ce621ad535row4_col0\" class=\"data row4 col0\" >101</td>\n",
       "                        <td id=\"T_5a424cda_d68b_11ea_bd0d_80ce621ad535row4_col1\" class=\"data row4 col1\" >$2.9</td>\n",
       "                        <td id=\"T_5a424cda_d68b_11ea_bd0d_80ce621ad535row4_col2\" class=\"data row4 col2\" >$293.0</td>\n",
       "                        <td id=\"T_5a424cda_d68b_11ea_bd0d_80ce621ad535row4_col3\" class=\"data row4 col3\" >$2.9</td>\n",
       "            </tr>\n",
       "            <tr>\n",
       "                        <th id=\"T_5a424cda_d68b_11ea_bd0d_80ce621ad535level0_row5\" class=\"row_heading level0 row5\" >30-34</th>\n",
       "                        <td id=\"T_5a424cda_d68b_11ea_bd0d_80ce621ad535row5_col0\" class=\"data row5 col0\" >73</td>\n",
       "                        <td id=\"T_5a424cda_d68b_11ea_bd0d_80ce621ad535row5_col1\" class=\"data row5 col1\" >$2.93</td>\n",
       "                        <td id=\"T_5a424cda_d68b_11ea_bd0d_80ce621ad535row5_col2\" class=\"data row5 col2\" >$214.0</td>\n",
       "                        <td id=\"T_5a424cda_d68b_11ea_bd0d_80ce621ad535row5_col3\" class=\"data row5 col3\" >$2.93</td>\n",
       "            </tr>\n",
       "            <tr>\n",
       "                        <th id=\"T_5a424cda_d68b_11ea_bd0d_80ce621ad535level0_row6\" class=\"row_heading level0 row6\" >35-39</th>\n",
       "                        <td id=\"T_5a424cda_d68b_11ea_bd0d_80ce621ad535row6_col0\" class=\"data row6 col0\" >41</td>\n",
       "                        <td id=\"T_5a424cda_d68b_11ea_bd0d_80ce621ad535row6_col1\" class=\"data row6 col1\" >$3.6</td>\n",
       "                        <td id=\"T_5a424cda_d68b_11ea_bd0d_80ce621ad535row6_col2\" class=\"data row6 col2\" >$147.67</td>\n",
       "                        <td id=\"T_5a424cda_d68b_11ea_bd0d_80ce621ad535row6_col3\" class=\"data row6 col3\" >$3.6</td>\n",
       "            </tr>\n",
       "            <tr>\n",
       "                        <th id=\"T_5a424cda_d68b_11ea_bd0d_80ce621ad535level0_row7\" class=\"row_heading level0 row7\" >40+</th>\n",
       "                        <td id=\"T_5a424cda_d68b_11ea_bd0d_80ce621ad535row7_col0\" class=\"data row7 col0\" >13</td>\n",
       "                        <td id=\"T_5a424cda_d68b_11ea_bd0d_80ce621ad535row7_col1\" class=\"data row7 col1\" >$2.94</td>\n",
       "                        <td id=\"T_5a424cda_d68b_11ea_bd0d_80ce621ad535row7_col2\" class=\"data row7 col2\" >$38.24</td>\n",
       "                        <td id=\"T_5a424cda_d68b_11ea_bd0d_80ce621ad535row7_col3\" class=\"data row7 col3\" >$2.94</td>\n",
       "            </tr>\n",
       "    </tbody></table>"
      ],
      "text/plain": [
       "<pandas.io.formats.style.Styler at 0x266a4c1aa48>"
      ]
     },
     "execution_count": 8,
     "metadata": {},
     "output_type": "execute_result"
    }
   ],
   "source": [
    "# purchase count\n",
    "age_purch = purchase_data.groupby(['Age Range']).count()['Age']\n",
    "\n",
    "# average purchase price\n",
    "age_avg_price = purchase_data.groupby(['Age Range']).mean()['Price']\n",
    "\n",
    "# total purchase value per person by gender\n",
    "age_total_value = purchase_data.groupby(['Age Range']).sum()['Price']\n",
    "\n",
    "# average total by gender\n",
    "age_avg_total = (age_total_value/age_purch)\n",
    "\n",
    "age_demo = {\n",
    "    \"Purchase Count\":age_purch,\n",
    "    \"Average Price\":age_avg_price,\n",
    "    \"Total Purchase\":age_total_value,\n",
    "    \"Avg Total per Person\":age_avg_total\n",
    "    }\n",
    "age_demo = pd.DataFrame(age_demo, columns=age_demo.keys()).sort_index()\n",
    "format_demo = {'Average Price':'${:,.3}','Total Purchase':'${:,.6}', 'Avg Total per Person':'${:,.3}'}\n",
    "age_demo.style.format(format_demo)"
   ]
  },
  {
   "cell_type": "markdown",
   "metadata": {},
   "source": [
    "## Top Spenders"
   ]
  },
  {
   "cell_type": "markdown",
   "metadata": {},
   "source": [
    "* Run basic calculations to obtain the results in the table below\n",
    "\n",
    "\n",
    "* Create a summary data frame to hold the results\n",
    "\n",
    "\n",
    "* Sort the total purchase value column in descending order\n",
    "\n",
    "\n",
    "* Optional: give the displayed data cleaner formatting\n",
    "\n",
    "\n",
    "* Display a preview of the summary data frame\n",
    "\n"
   ]
  },
  {
   "cell_type": "code",
   "execution_count": 12,
   "metadata": {},
   "outputs": [
    {
     "data": {
      "text/html": [
       "<style  type=\"text/css\" >\n",
       "</style><table id=\"T_6ae4f582_d68b_11ea_8321_80ce621ad535\" ><thead>    <tr>        <th class=\"blank level0\" ></th>        <th class=\"col_heading level0 col0\" >Purchase Count</th>        <th class=\"col_heading level0 col1\" >Average Price</th>        <th class=\"col_heading level0 col2\" >Total Purchase</th>        <th class=\"col_heading level0 col3\" >Avg Total per Spender</th>    </tr>    <tr>        <th class=\"index_name level0\" >SN</th>        <th class=\"blank\" ></th>        <th class=\"blank\" ></th>        <th class=\"blank\" ></th>        <th class=\"blank\" ></th>    </tr></thead><tbody>\n",
       "                <tr>\n",
       "                        <th id=\"T_6ae4f582_d68b_11ea_8321_80ce621ad535level0_row0\" class=\"row_heading level0 row0\" >Lisosia93</th>\n",
       "                        <td id=\"T_6ae4f582_d68b_11ea_8321_80ce621ad535row0_col0\" class=\"data row0 col0\" >5</td>\n",
       "                        <td id=\"T_6ae4f582_d68b_11ea_8321_80ce621ad535row0_col1\" class=\"data row0 col1\" >$3.79</td>\n",
       "                        <td id=\"T_6ae4f582_d68b_11ea_8321_80ce621ad535row0_col2\" class=\"data row0 col2\" >$18.96</td>\n",
       "                        <td id=\"T_6ae4f582_d68b_11ea_8321_80ce621ad535row0_col3\" class=\"data row0 col3\" >$3.79</td>\n",
       "            </tr>\n",
       "            <tr>\n",
       "                        <th id=\"T_6ae4f582_d68b_11ea_8321_80ce621ad535level0_row1\" class=\"row_heading level0 row1\" >Idastidru52</th>\n",
       "                        <td id=\"T_6ae4f582_d68b_11ea_8321_80ce621ad535row1_col0\" class=\"data row1 col0\" >4</td>\n",
       "                        <td id=\"T_6ae4f582_d68b_11ea_8321_80ce621ad535row1_col1\" class=\"data row1 col1\" >$3.86</td>\n",
       "                        <td id=\"T_6ae4f582_d68b_11ea_8321_80ce621ad535row1_col2\" class=\"data row1 col2\" >$15.45</td>\n",
       "                        <td id=\"T_6ae4f582_d68b_11ea_8321_80ce621ad535row1_col3\" class=\"data row1 col3\" >$3.86</td>\n",
       "            </tr>\n",
       "            <tr>\n",
       "                        <th id=\"T_6ae4f582_d68b_11ea_8321_80ce621ad535level0_row2\" class=\"row_heading level0 row2\" >Chamjask73</th>\n",
       "                        <td id=\"T_6ae4f582_d68b_11ea_8321_80ce621ad535row2_col0\" class=\"data row2 col0\" >3</td>\n",
       "                        <td id=\"T_6ae4f582_d68b_11ea_8321_80ce621ad535row2_col1\" class=\"data row2 col1\" >$4.61</td>\n",
       "                        <td id=\"T_6ae4f582_d68b_11ea_8321_80ce621ad535row2_col2\" class=\"data row2 col2\" >$13.83</td>\n",
       "                        <td id=\"T_6ae4f582_d68b_11ea_8321_80ce621ad535row2_col3\" class=\"data row2 col3\" >$4.61</td>\n",
       "            </tr>\n",
       "            <tr>\n",
       "                        <th id=\"T_6ae4f582_d68b_11ea_8321_80ce621ad535level0_row3\" class=\"row_heading level0 row3\" >Iral74</th>\n",
       "                        <td id=\"T_6ae4f582_d68b_11ea_8321_80ce621ad535row3_col0\" class=\"data row3 col0\" >4</td>\n",
       "                        <td id=\"T_6ae4f582_d68b_11ea_8321_80ce621ad535row3_col1\" class=\"data row3 col1\" >$3.4</td>\n",
       "                        <td id=\"T_6ae4f582_d68b_11ea_8321_80ce621ad535row3_col2\" class=\"data row3 col2\" >$13.62</td>\n",
       "                        <td id=\"T_6ae4f582_d68b_11ea_8321_80ce621ad535row3_col3\" class=\"data row3 col3\" >$3.4</td>\n",
       "            </tr>\n",
       "            <tr>\n",
       "                        <th id=\"T_6ae4f582_d68b_11ea_8321_80ce621ad535level0_row4\" class=\"row_heading level0 row4\" >Iskadarya95</th>\n",
       "                        <td id=\"T_6ae4f582_d68b_11ea_8321_80ce621ad535row4_col0\" class=\"data row4 col0\" >3</td>\n",
       "                        <td id=\"T_6ae4f582_d68b_11ea_8321_80ce621ad535row4_col1\" class=\"data row4 col1\" >$4.37</td>\n",
       "                        <td id=\"T_6ae4f582_d68b_11ea_8321_80ce621ad535row4_col2\" class=\"data row4 col2\" >$13.1</td>\n",
       "                        <td id=\"T_6ae4f582_d68b_11ea_8321_80ce621ad535row4_col3\" class=\"data row4 col3\" >$4.37</td>\n",
       "            </tr>\n",
       "    </tbody></table>"
      ],
      "text/plain": [
       "<pandas.io.formats.style.Styler at 0x266a4b2e308>"
      ]
     },
     "execution_count": 12,
     "metadata": {},
     "output_type": "execute_result"
    }
   ],
   "source": [
    "spender_names = purchase_data.groupby('SN')\n",
    "\n",
    "# purchase count\n",
    "spender_purch = purchase_data.groupby(['SN']).count()['Item ID']\n",
    "\n",
    "# average purchase price\n",
    "spender_avg_price = purchase_data.groupby(['SN']).mean()['Price']\n",
    "\n",
    "# total purchase value by spender\n",
    "spender_total_value = purchase_data.groupby(['SN']).sum()['Price']\n",
    "\n",
    "# average total by spender\n",
    "spender_avg_total = (spender_total_value/spender_purch)\n",
    "\n",
    "spender_df = {\n",
    "    \"Purchase Count\":spender_purch,\n",
    "    \"Average Price\":spender_avg_price,\n",
    "    \"Total Purchase\":spender_total_value,\n",
    "    \"Avg Total per Spender\":spender_avg_total\n",
    "    }\n",
    "spender_df = pd.DataFrame(spender_df, columns=spender_df.keys()).sort_values(['Total Purchase'], ascending=False).head()\n",
    "format_spender = {'Average Price':'${:,.3}','Total Purchase':'${:,.6}', 'Avg Total per Spender':'${:,.3}'}\n",
    "spender_df.style.format(format_spender)"
   ]
  },
  {
   "cell_type": "markdown",
   "metadata": {},
   "source": [
    "## Most Popular Items"
   ]
  },
  {
   "cell_type": "markdown",
   "metadata": {},
   "source": [
    "* Retrieve the Item ID, Item Name, and Item Price columns\n",
    "\n",
    "\n",
    "* Group by Item ID and Item Name. Perform calculations to obtain purchase count, item price, and total purchase value\n",
    "\n",
    "\n",
    "* Create a summary data frame to hold the results\n",
    "\n",
    "\n",
    "* Sort the purchase count column in descending order\n",
    "\n",
    "\n",
    "* Optional: give the displayed data cleaner formatting\n",
    "\n",
    "\n",
    "* Display a preview of the summary data frame\n",
    "\n"
   ]
  },
  {
   "cell_type": "code",
   "execution_count": 20,
   "metadata": {},
   "outputs": [
    {
     "data": {
      "text/html": [
       "<style  type=\"text/css\" >\n",
       "</style><table id=\"T_04c616e2_d68c_11ea_a6dc_80ce621ad535\" ><thead>    <tr>        <th class=\"blank level0\" ></th>        <th class=\"col_heading level0 col0\" >Purchase Count</th>        <th class=\"col_heading level0 col1\" >Average Price</th>        <th class=\"col_heading level0 col2\" >Total Purchase</th>        <th class=\"col_heading level0 col3\" >Avg Total per Item</th>    </tr></thead><tbody>\n",
       "                <tr>\n",
       "                        <th id=\"T_04c616e2_d68c_11ea_a6dc_80ce621ad535level0_row0\" class=\"row_heading level0 row0\" >92</th>\n",
       "                        <td id=\"T_04c616e2_d68c_11ea_a6dc_80ce621ad535row0_col0\" class=\"data row0 col0\" >13</td>\n",
       "                        <td id=\"T_04c616e2_d68c_11ea_a6dc_80ce621ad535row0_col1\" class=\"data row0 col1\" >$4.61</td>\n",
       "                        <td id=\"T_04c616e2_d68c_11ea_a6dc_80ce621ad535row0_col2\" class=\"data row0 col2\" >$59.99</td>\n",
       "                        <td id=\"T_04c616e2_d68c_11ea_a6dc_80ce621ad535row0_col3\" class=\"data row0 col3\" >$4.6</td>\n",
       "            </tr>\n",
       "            <tr>\n",
       "                        <th id=\"T_04c616e2_d68c_11ea_a6dc_80ce621ad535level0_row1\" class=\"row_heading level0 row1\" >178</th>\n",
       "                        <td id=\"T_04c616e2_d68c_11ea_a6dc_80ce621ad535row1_col0\" class=\"data row1 col0\" >12</td>\n",
       "                        <td id=\"T_04c616e2_d68c_11ea_a6dc_80ce621ad535row1_col1\" class=\"data row1 col1\" >$4.23</td>\n",
       "                        <td id=\"T_04c616e2_d68c_11ea_a6dc_80ce621ad535row1_col2\" class=\"data row1 col2\" >$50.76</td>\n",
       "                        <td id=\"T_04c616e2_d68c_11ea_a6dc_80ce621ad535row1_col3\" class=\"data row1 col3\" >$4.2</td>\n",
       "            </tr>\n",
       "            <tr>\n",
       "                        <th id=\"T_04c616e2_d68c_11ea_a6dc_80ce621ad535level0_row2\" class=\"row_heading level0 row2\" >145</th>\n",
       "                        <td id=\"T_04c616e2_d68c_11ea_a6dc_80ce621ad535row2_col0\" class=\"data row2 col0\" >9</td>\n",
       "                        <td id=\"T_04c616e2_d68c_11ea_a6dc_80ce621ad535row2_col1\" class=\"data row2 col1\" >$4.58</td>\n",
       "                        <td id=\"T_04c616e2_d68c_11ea_a6dc_80ce621ad535row2_col2\" class=\"data row2 col2\" >$41.22</td>\n",
       "                        <td id=\"T_04c616e2_d68c_11ea_a6dc_80ce621ad535row2_col3\" class=\"data row2 col3\" >$4.6</td>\n",
       "            </tr>\n",
       "            <tr>\n",
       "                        <th id=\"T_04c616e2_d68c_11ea_a6dc_80ce621ad535level0_row3\" class=\"row_heading level0 row3\" >132</th>\n",
       "                        <td id=\"T_04c616e2_d68c_11ea_a6dc_80ce621ad535row3_col0\" class=\"data row3 col0\" >9</td>\n",
       "                        <td id=\"T_04c616e2_d68c_11ea_a6dc_80ce621ad535row3_col1\" class=\"data row3 col1\" >$3.22</td>\n",
       "                        <td id=\"T_04c616e2_d68c_11ea_a6dc_80ce621ad535row3_col2\" class=\"data row3 col2\" >$28.99</td>\n",
       "                        <td id=\"T_04c616e2_d68c_11ea_a6dc_80ce621ad535row3_col3\" class=\"data row3 col3\" >$3.2</td>\n",
       "            </tr>\n",
       "            <tr>\n",
       "                        <th id=\"T_04c616e2_d68c_11ea_a6dc_80ce621ad535level0_row4\" class=\"row_heading level0 row4\" >108</th>\n",
       "                        <td id=\"T_04c616e2_d68c_11ea_a6dc_80ce621ad535row4_col0\" class=\"data row4 col0\" >9</td>\n",
       "                        <td id=\"T_04c616e2_d68c_11ea_a6dc_80ce621ad535row4_col1\" class=\"data row4 col1\" >$3.53</td>\n",
       "                        <td id=\"T_04c616e2_d68c_11ea_a6dc_80ce621ad535row4_col2\" class=\"data row4 col2\" >$31.77</td>\n",
       "                        <td id=\"T_04c616e2_d68c_11ea_a6dc_80ce621ad535row4_col3\" class=\"data row4 col3\" >$3.5</td>\n",
       "            </tr>\n",
       "    </tbody></table>"
      ],
      "text/plain": [
       "<pandas.io.formats.style.Styler at 0x266a4ca10c8>"
      ]
     },
     "execution_count": 20,
     "metadata": {},
     "output_type": "execute_result"
    }
   ],
   "source": [
    "# item name\n",
    "item_names = purchase_data['Item ID'].value_counts()\n",
    "\n",
    "# average purchase price\n",
    "item_avg_price = purchase_data.groupby(['Item ID']).mean()['Price']\n",
    "\n",
    "# total purchase value by spender\n",
    "item_total_value = purchase_data.groupby(['Item ID']).sum()['Price']\n",
    "\n",
    "# average total by spender\n",
    "item_avg_total = (item_total_value/item_names)\n",
    "\n",
    "item_df = {\n",
    "    \"Purchase Count\":item_names,\n",
    "    \"Average Price\":item_avg_price,\n",
    "    \"Total Purchase\":item_total_value,\n",
    "    \"Avg Total per Item\":item_avg_total\n",
    "    }\n",
    "item_df = pd.DataFrame(item_df, columns=item_df.keys()).sort_values(['Purchase Count'], ascending=False).head()\n",
    "format_item = {'Average Price':'${:,.3}','Total Purchase':'${:,.6}', 'Avg Total per Item':'${:,.2}'}\n",
    "item_df.style.format(format_item)"
   ]
  },
  {
   "cell_type": "markdown",
   "metadata": {},
   "source": [
    "## Most Profitable Items"
   ]
  },
  {
   "cell_type": "markdown",
   "metadata": {},
   "source": [
    "* Sort the above table by total purchase value in descending order\n",
    "\n",
    "\n",
    "* Optional: give the displayed data cleaner formatting\n",
    "\n",
    "\n",
    "* Display a preview of the data frame\n",
    "\n"
   ]
  },
  {
   "cell_type": "code",
   "execution_count": 19,
   "metadata": {
    "scrolled": true
   },
   "outputs": [
    {
     "data": {
      "text/html": [
       "<style  type=\"text/css\" >\n",
       "</style><table id=\"T_f748dc40_d68b_11ea_8c81_80ce621ad535\" ><thead>    <tr>        <th class=\"blank level0\" ></th>        <th class=\"col_heading level0 col0\" >Purchase Count</th>        <th class=\"col_heading level0 col1\" >Average Price</th>        <th class=\"col_heading level0 col2\" >Total Purchase</th>        <th class=\"col_heading level0 col3\" >Avg Total per Item</th>    </tr></thead><tbody>\n",
       "                <tr>\n",
       "                        <th id=\"T_f748dc40_d68b_11ea_8c81_80ce621ad535level0_row0\" class=\"row_heading level0 row0\" >92</th>\n",
       "                        <td id=\"T_f748dc40_d68b_11ea_8c81_80ce621ad535row0_col0\" class=\"data row0 col0\" >13</td>\n",
       "                        <td id=\"T_f748dc40_d68b_11ea_8c81_80ce621ad535row0_col1\" class=\"data row0 col1\" >$4.61</td>\n",
       "                        <td id=\"T_f748dc40_d68b_11ea_8c81_80ce621ad535row0_col2\" class=\"data row0 col2\" >$59.99</td>\n",
       "                        <td id=\"T_f748dc40_d68b_11ea_8c81_80ce621ad535row0_col3\" class=\"data row0 col3\" >$4.6</td>\n",
       "            </tr>\n",
       "            <tr>\n",
       "                        <th id=\"T_f748dc40_d68b_11ea_8c81_80ce621ad535level0_row1\" class=\"row_heading level0 row1\" >178</th>\n",
       "                        <td id=\"T_f748dc40_d68b_11ea_8c81_80ce621ad535row1_col0\" class=\"data row1 col0\" >12</td>\n",
       "                        <td id=\"T_f748dc40_d68b_11ea_8c81_80ce621ad535row1_col1\" class=\"data row1 col1\" >$4.23</td>\n",
       "                        <td id=\"T_f748dc40_d68b_11ea_8c81_80ce621ad535row1_col2\" class=\"data row1 col2\" >$50.76</td>\n",
       "                        <td id=\"T_f748dc40_d68b_11ea_8c81_80ce621ad535row1_col3\" class=\"data row1 col3\" >$4.2</td>\n",
       "            </tr>\n",
       "            <tr>\n",
       "                        <th id=\"T_f748dc40_d68b_11ea_8c81_80ce621ad535level0_row2\" class=\"row_heading level0 row2\" >82</th>\n",
       "                        <td id=\"T_f748dc40_d68b_11ea_8c81_80ce621ad535row2_col0\" class=\"data row2 col0\" >9</td>\n",
       "                        <td id=\"T_f748dc40_d68b_11ea_8c81_80ce621ad535row2_col1\" class=\"data row2 col1\" >$4.9</td>\n",
       "                        <td id=\"T_f748dc40_d68b_11ea_8c81_80ce621ad535row2_col2\" class=\"data row2 col2\" >$44.1</td>\n",
       "                        <td id=\"T_f748dc40_d68b_11ea_8c81_80ce621ad535row2_col3\" class=\"data row2 col3\" >$4.9</td>\n",
       "            </tr>\n",
       "            <tr>\n",
       "                        <th id=\"T_f748dc40_d68b_11ea_8c81_80ce621ad535level0_row3\" class=\"row_heading level0 row3\" >145</th>\n",
       "                        <td id=\"T_f748dc40_d68b_11ea_8c81_80ce621ad535row3_col0\" class=\"data row3 col0\" >9</td>\n",
       "                        <td id=\"T_f748dc40_d68b_11ea_8c81_80ce621ad535row3_col1\" class=\"data row3 col1\" >$4.58</td>\n",
       "                        <td id=\"T_f748dc40_d68b_11ea_8c81_80ce621ad535row3_col2\" class=\"data row3 col2\" >$41.22</td>\n",
       "                        <td id=\"T_f748dc40_d68b_11ea_8c81_80ce621ad535row3_col3\" class=\"data row3 col3\" >$4.6</td>\n",
       "            </tr>\n",
       "            <tr>\n",
       "                        <th id=\"T_f748dc40_d68b_11ea_8c81_80ce621ad535level0_row4\" class=\"row_heading level0 row4\" >103</th>\n",
       "                        <td id=\"T_f748dc40_d68b_11ea_8c81_80ce621ad535row4_col0\" class=\"data row4 col0\" >8</td>\n",
       "                        <td id=\"T_f748dc40_d68b_11ea_8c81_80ce621ad535row4_col1\" class=\"data row4 col1\" >$4.35</td>\n",
       "                        <td id=\"T_f748dc40_d68b_11ea_8c81_80ce621ad535row4_col2\" class=\"data row4 col2\" >$34.8</td>\n",
       "                        <td id=\"T_f748dc40_d68b_11ea_8c81_80ce621ad535row4_col3\" class=\"data row4 col3\" >$4.4</td>\n",
       "            </tr>\n",
       "    </tbody></table>"
      ],
      "text/plain": [
       "<pandas.io.formats.style.Styler at 0x266a4c4c688>"
      ]
     },
     "execution_count": 19,
     "metadata": {},
     "output_type": "execute_result"
    }
   ],
   "source": [
    "profit_df = {\n",
    "    \"Purchase Count\":item_names,\n",
    "    \"Average Price\":item_avg_price,\n",
    "    \"Total Purchase\":item_total_value,\n",
    "    \"Avg Total per Item\":item_avg_total\n",
    "    }\n",
    "profit_df = pd.DataFrame(profit_df, columns=profit_df.keys()).sort_values(['Total Purchase'], ascending=False).head()\n",
    "format_profit = {'Average Price':'${:,.3}','Total Purchase':'${:,.6}', 'Avg Total per Item':'${:,.2}'}\n",
    "profit_df.style.format(format_profit)"
   ]
  },
  {
   "cell_type": "code",
   "execution_count": null,
   "metadata": {},
   "outputs": [],
   "source": []
  }
 ],
 "metadata": {
  "anaconda-cloud": {},
  "kernel_info": {
   "name": "python3"
  },
  "kernelspec": {
   "display_name": "Python 3",
   "language": "python",
   "name": "python3"
  },
  "language_info": {
   "codemirror_mode": {
    "name": "ipython",
    "version": 3
   },
   "file_extension": ".py",
   "mimetype": "text/x-python",
   "name": "python",
   "nbconvert_exporter": "python",
   "pygments_lexer": "ipython3",
   "version": "3.7.6"
  },
  "latex_envs": {
   "LaTeX_envs_menu_present": true,
   "autoclose": false,
   "autocomplete": true,
   "bibliofile": "biblio.bib",
   "cite_by": "apalike",
   "current_citInitial": 1,
   "eqLabelWithNumbers": true,
   "eqNumInitial": 1,
   "hotkeys": {
    "equation": "Ctrl-E",
    "itemize": "Ctrl-I"
   },
   "labels_anchors": false,
   "latex_user_defs": false,
   "report_style_numbering": false,
   "user_envs_cfg": false
  },
  "nteract": {
   "version": "0.2.0"
  }
 },
 "nbformat": 4,
 "nbformat_minor": 2
}
